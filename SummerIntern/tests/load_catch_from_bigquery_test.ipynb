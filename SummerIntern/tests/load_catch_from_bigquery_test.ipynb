{
 "cells": [
  {
   "cell_type": "code",
   "execution_count": 21,
   "metadata": {},
   "outputs": [],
   "source": [
    "import pandas as pd\n",
    "from datetime import timedelta \n",
    "import pandas as pd\n",
    "import numpy as np\n",
    "import os\n",
    "import time\n",
    "import warnings\n",
    "import json\n",
    "from datetime import datetime, timedelta\n",
    "#from netCDF4 import Dataset\n",
    "#from scipy.interpolate import griddata"
   ]
  },
  {
   "cell_type": "code",
   "execution_count": 22,
   "metadata": {},
   "outputs": [],
   "source": [
    "import sys \n",
    "sys.path.append('/home/jupyter/catch/') # setting sys path to include project-root-folder\n",
    "from utils.download_catch_data_BigQuery import extract_catch_data_BigQuery"
   ]
  },
  {
   "cell_type": "code",
   "execution_count": 25,
   "metadata": {},
   "outputs": [],
   "source": [
    "def load_BQ_and_clean():\n",
    "    '''\n",
    "    The 'load_BQ_and_clean()' function calls 'extract_catch_data_BigQuery()' and extracts AKBM catch data and does some additional cleaning. The output \n",
    "\n",
    "    '''\n",
    "    config_path = '/config/analytics-secure-pillar-201009-serviceaccount_keyfile.json' # NOTE: hardcoded! \n",
    "    catch_data = extract_catch_data_BigQuery(config_path, config_dict=None, savefile=False, verbose=1)\n",
    "\n",
    "    # turning off warnings\n",
    "    pd.options.mode.chained_assignment = None  # default='warn'\n",
    "\n",
    "    # Cleaning\n",
    "    # fix wrong value (hit 0 instead of .)\n",
    "    catch_data['Krill Size (mm)'].replace(to_replace=[3807.0],value=38.07, inplace=True)\n",
    "    # ten times too large?\n",
    "    catch_data['Krill weight (gram)'].replace(to_replace=[3.63],value=0.363, inplace=True)\n",
    "\n",
    "    # setting temp weight's and getting index for data with switched columns\n",
    "    idx = catch_data[(catch_data['Krill weight (gram)']>10) & (catch_data['Krill Size (mm)']<1)]['Krill weight (gram)'].index\n",
    "    temp_size = catch_data[(catch_data['Krill weight (gram)']>10) & (catch_data['Krill Size (mm)']<1)]['Krill weight (gram)']\n",
    "    temp_weight = catch_data[(catch_data['Krill weight (gram)']>10) & (catch_data['Krill Size (mm)']<1)]['Krill Size (mm)']\n",
    "    # setting correct values\n",
    "    catch_data['Krill weight (gram)'][idx.values]=temp_weight\n",
    "    catch_data['Krill Size (mm)'][idx.values]=temp_size\n",
    "\n",
    "    # idx_corrected_weight = catch_data[(catch_data['Krill weight (gram)']>10)]['Krill weight (gram)'].index\n",
    "    corrected_weight = catch_data[(catch_data['Krill weight (gram)']>10)]['Krill weight (gram)']/100\n",
    "    idx_corrected_weight = corrected_weight.index\n",
    "    catch_data['Krill weight (gram)'][idx_corrected_weight]=corrected_weight\n",
    "\n",
    "    # Getting the description\n",
    "    description=catch_data.describe()\n",
    "    # setting Krill size less than 10 mm to the mean Krill size. \n",
    "    catch_data[(catch_data['Krill Size (mm)']<10)]['Krill Size (mm)']=description['Krill Size (mm)'][1] # Does not work?\n",
    "    \n",
    "    return catch_data"
   ]
  }
 ],
 "metadata": {
  "kernelspec": {
   "display_name": "Python 3",
   "language": "python",
   "name": "python3"
  },
  "language_info": {
   "codemirror_mode": {
    "name": "ipython",
    "version": 3
   },
   "file_extension": ".py",
   "mimetype": "text/x-python",
   "name": "python",
   "nbconvert_exporter": "python",
   "pygments_lexer": "ipython3",
   "version": "3.7.3"
  }
 },
 "nbformat": 4,
 "nbformat_minor": 2
}
