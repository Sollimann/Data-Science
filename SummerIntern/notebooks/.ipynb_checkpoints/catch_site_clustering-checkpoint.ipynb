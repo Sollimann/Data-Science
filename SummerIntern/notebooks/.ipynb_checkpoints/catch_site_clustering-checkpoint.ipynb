{
 "cells": [
  {
   "cell_type": "markdown",
   "metadata": {},
   "source": [
    "Written by Kristoffer Rakstad Solberg\n",
    "Summer Intern, AKBM Transformation\n",
    "2019"
   ]
  },
  {
   "cell_type": "code",
   "execution_count": null,
   "metadata": {},
   "outputs": [],
   "source": [
    "import plotly\n",
    "from plotly import tools\n",
    "import plotly.plotly as py\n",
    "import plotly.graph_objs as go\n",
    "import pandas as pd\n",
    "import matplotlib.pyplot as plt\n",
    "from utils.load_catch_from_bigquery import load_BQ_and_clean"
   ]
  },
  {
   "cell_type": "code",
   "execution_count": null,
   "metadata": {},
   "outputs": [],
   "source": [
    "import geopy.distance\n",
    "from IPython.display import IFrame"
   ]
  },
  {
   "cell_type": "code",
   "execution_count": null,
   "metadata": {},
   "outputs": [],
   "source": [
    "# Add your own plotly user and mapbox access token\n",
    "plotly.tools.set_credentials_file(username='sollimann', api_key='Mt0jyw4YVAEzihyWlLvL')\n",
    "plotly.tools.set_config_file(world_readable=True,\n",
    "                             sharing='public')\n",
    "\n",
    "mapbox_access_token = 'pk.eyJ1Ijoic29sbGltYW5uIiwiYSI6ImNqeDYyYWVkdDAwYXM0M3QyZ3AwNDJudWUifQ.NaYqXFLNEBG1cVzAdP-GYg'"
   ]
  },
  {
   "cell_type": "markdown",
   "metadata": {},
   "source": [
    "# ST-DBSCAN"
   ]
  },
  {
   "cell_type": "code",
   "execution_count": null,
   "metadata": {},
   "outputs": [],
   "source": [
    "from datetime import datetime\n",
    "import numpy as np\n",
    "import ST_DBSCAN.STDBSCAN as STDBSCAN"
   ]
  },
  {
   "cell_type": "markdown",
   "metadata": {},
   "source": [
    "# Functions for visualizing clusters geographically"
   ]
  },
  {
   "cell_type": "code",
   "execution_count": null,
   "metadata": {},
   "outputs": [],
   "source": [
    "def plot_clusters(df, output_name):\n",
    "    import matplotlib.pyplot as plt\n",
    "\n",
    "    labels = df['cluster'].values\n",
    "    X = df[['Longitude', 'Latitude']].values\n",
    "\n",
    "    # Black removed and is used for noise instead.\n",
    "    unique_labels = set(labels)\n",
    "    colors = [plt.cm.Spectral(each)\n",
    "              for each in np.linspace(0, 1, len(unique_labels))]\n",
    "    for k, col in zip(unique_labels, colors):\n",
    "        if k == -1:\n",
    "            # Black used for noise.\n",
    "            col = [0, 0, 0, 1]\n",
    "\n",
    "        class_member_mask = (labels == k)\n",
    "\n",
    "        xy = X[class_member_mask]\n",
    "        plt.plot(xy[:, 0], xy[:, 1], 'o', markerfacecolor=tuple(col),\n",
    "                 markeredgecolor='k', markersize=6)\n",
    "\n",
    "    plt.title('ST-DSCAN: #n of clusters {}'.format(len(unique_labels)))\n",
    "    plt.show()"
   ]
  },
  {
   "cell_type": "code",
   "execution_count": null,
   "metadata": {},
   "outputs": [],
   "source": [
    "def get_consistent_color_scaling(df):\n",
    "    \"\"\"\n",
    "    INPUTS:\n",
    "        \n",
    "    \n",
    "    OUTPUTS:\n",
    "        \n",
    "    \"\"\"\n",
    "    \n",
    "    # total number of clusters (noise not included)\n",
    "    nr_of_clusters = df['cluster'].max()\n",
    "    \n",
    "    # all available colors https://www.color-hex.com/\n",
    "    colors = [\"#b8b8b8\", \"#2791d3\", \"#27c96d\", \"#1b5a72\", \"#eb5e55\", \"#780303\", \"#f15e75\",\"#53c4da\", \"#3b4249\",\n",
    "           \"#f7c56e\",\"#ff966c\",\"#ffed43\",\"#177e89\",\"#780303\",\"#51caf9\", \"#f7c56e\", \"#f5d4df\", \"#bee9e8\", \"#391b55\",\n",
    "              \"#c8e4d6\",]\n",
    "    \n",
    "    # add color for noise manually\n",
    "    scl = [[0.0,\"#b8b8b8\"]]\n",
    "    \n",
    "    # add additional colors for clusters\n",
    "    for i in range(1,nr_of_clusters+1):\n",
    "        index = round(i * (1.0 / nr_of_clusters),3)\n",
    "        color = [index,colors[i]]\n",
    "        scl.append(color)\n",
    "\n",
    "    return scl, colors[0:(nr_of_clusters+1)]"
   ]
  },
  {
   "cell_type": "code",
   "execution_count": null,
   "metadata": {},
   "outputs": [],
   "source": [
    "def visualize_data(df,output_name, scl):\n",
    "    \"\"\"\n",
    "    INPUTS:\n",
    "        \n",
    "    \n",
    "    OUTPUTS:\n",
    "        \n",
    "    \"\"\"\n",
    "    \n",
    "    # convert a column consisting of datetime64 objects to a string\n",
    "    #df['DateStr'] = df['Date'].dt.strftime('%b') + ' , cluster: ' + df['cluster'].astype(str)\n",
    "\n",
    "    # Adding dateframes\n",
    "    #df['text'] = df['DateStr'] + ' , ' + df['Vessel'] + ', ' + 'Catch: ' + df['Total catch Krill - Mt'].astype(str)\n",
    "    df['text'] = 'Cluster: ' + df['cluster'].astype(str)\n",
    "    \n",
    "    \n",
    "    # data\n",
    "    data = [\n",
    "        go.Scattermapbox(\n",
    "            lon = df['Longitude'],\n",
    "            lat = df['Latitude'],\n",
    "            text = df['text'],\n",
    "            mode='markers+text',\n",
    "            marker=go.scattermapbox.Marker(\n",
    "                size = 8, \n",
    "                opacity = 0.8,\n",
    "                reversescale = False,\n",
    "                autocolorscale = False,\n",
    "                colorscale = scl,\n",
    "                cmin = 0,#df['cluster'].min(),\n",
    "                color = df['cluster'],\n",
    "                cmax = df['cluster'].max(),\n",
    "            ),\n",
    "        )\n",
    "    ]\n",
    "\n",
    "    # Layout\n",
    "    layout = go.Layout(\n",
    "        title='catch sites',\n",
    "        autosize=True,\n",
    "        hovermode='closest',\n",
    "        showlegend=True,\n",
    "        mapbox=go.layout.Mapbox(\n",
    "            accesstoken=mapbox_access_token,\n",
    "            bearing=0,\n",
    "            center=go.layout.mapbox.Center(\n",
    "                lat=-54,\n",
    "                lon=-27\n",
    "            ),\n",
    "            pitch=0,\n",
    "            zoom=2,\n",
    "        ),\n",
    "    )\n",
    "\n",
    "    # Return figure\n",
    "    fig = go.Figure(data=data,layout=layout)\n",
    "    return fig"
   ]
  },
  {
   "cell_type": "markdown",
   "metadata": {},
   "source": [
    "# Extract useful information from each cluster"
   ]
  },
  {
   "cell_type": "code",
   "execution_count": null,
   "metadata": {},
   "outputs": [],
   "source": [
    "def filter_catch(catchLimit):\n",
    "    \n",
    "    filtered_df = df[(df['Total catch Krill - Mt'] > catchLimit)]\n",
    "    \n",
    "    \n",
    "    return filtered_df"
   ]
  },
  {
   "cell_type": "code",
   "execution_count": null,
   "metadata": {},
   "outputs": [],
   "source": [
    "def total_catch_for_cluster(df_1):\n",
    "\n",
    "    \"\"\"\n",
    "    INPUTS:\n",
    "        \n",
    "    \n",
    "    OUTPUTS:\n",
    "        \n",
    "    \"\"\"\n",
    "\n",
    "    import calendar\n",
    "    df_2 = df_1.groupby('month').sum()\n",
    "    df_2.reset_index(inplace=True)\n",
    "    df_2['month'] = df_2['month'].apply(lambda x: calendar.month_abbr[x])\n",
    "    df_2[['month','Total catch Krill - Mt']]\n",
    "    \n",
    "    return df_2"
   ]
  },
  {
   "cell_type": "code",
   "execution_count": null,
   "metadata": {},
   "outputs": [],
   "source": [
    "def get_average_monthly_catch_from_cluster(df_cluster):\n",
    "    \"\"\"\n",
    "    INPUTS:\n",
    "        df_clust_id = df[df['cluster' == id]]         a dataframe for a particular cluster\n",
    "    \n",
    "    OUTPUTS:\n",
    "        [catch_month.mean(), ....]   A list of average catch for each month in cluster\n",
    "    \"\"\"\n",
    "    months_str = []\n",
    "    months_int = []\n",
    "    df_months = df_cluster['month'].drop_duplicates()\n",
    "    df_months.index = pd.RangeIndex(len(df_months.index))\n",
    "    for m in range(0,len(df_months)):\n",
    "        mean = df_cluster[df_cluster['month'] == df_months[m]].loc[:,\"Total catch Krill - Mt\"].mean()\n",
    "        mean = int(mean) #round of\n",
    "        months_str.append(str(mean)+' mT')\n",
    "        months_int.append(mean)\n",
    "    return months_str, months_int"
   ]
  },
  {
   "cell_type": "markdown",
   "metadata": {},
   "source": [
    "# Functions for creating histograms"
   ]
  },
  {
   "cell_type": "code",
   "execution_count": null,
   "metadata": {},
   "outputs": [],
   "source": [
    "def cluster_hist(df):\n",
    "    \"\"\"\n",
    "    INPUTS:\n",
    "        \n",
    "    \n",
    "    OUTPUTS:\n",
    "        \n",
    "    \"\"\"\n",
    "    import plotly.figure_factory as ff\n",
    "    hist_data = []\n",
    "    avg_catch_all_clusters_as_str = []\n",
    "    avg_catch_all_clusters_as_int = []\n",
    "    df_clust = df[df['cluster']==-1]\n",
    "    df_clust_sorted = df_clust.sort_values(by='month')\n",
    "    data = df_clust_sorted['Date'].dt.strftime('%b')\n",
    "    hist_data.append(data)\n",
    "    \n",
    "    # add average catch for cluster noise as well\n",
    "    catch_str, catch_int = get_average_monthly_catch_from_cluster(df_clust_sorted)\n",
    "    avg_catch_all_clusters_as_str.append(catch_str)    \n",
    "    avg_catch_all_clusters_as_int.append(catch_int)\n",
    "    \n",
    "    # get data from each cluster\n",
    "    for c in range(1,max(df_clustered['cluster'])+1):\n",
    "        df_clust = df[df['cluster']==c]\n",
    "        df_clust_sorted = df_clust.sort_values(by='month')     \n",
    "        data = df_clust_sorted['Date'].dt.strftime('%b')\n",
    "        hist_data.append(data)\n",
    "        \n",
    "        # calculate mean catch per month for this cluster\n",
    "        catch_str, catch_int = get_average_monthly_catch_from_cluster(df_clust_sorted)\n",
    "        avg_catch_all_clusters_as_str.append(catch_str)\n",
    "        avg_catch_all_clusters_as_int.append(catch_int)\n",
    "        \n",
    "    # get cluster label\n",
    "    group_labels = ['noise']\n",
    "    for c in range(1,max(df_clustered['cluster'])+1):\n",
    "        group_labels.append('Cluster ' + str(c))\n",
    "\n",
    "    return avg_catch_all_clusters_as_str,avg_catch_all_clusters_as_int, hist_data, group_labels"
   ]
  },
  {
   "cell_type": "code",
   "execution_count": null,
   "metadata": {},
   "outputs": [],
   "source": [
    "# number of rows and cols needed\n",
    "def subplot_rows_and_cols(size):\n",
    "    \"\"\"\n",
    "    INPUTS:\n",
    "       \n",
    "    \n",
    "    OUTPUTS:\n",
    "        \n",
    "    \"\"\"\n",
    "    import math\n",
    "    rows = math.ceil(np.sqrt(size))\n",
    "    cols = rows\n",
    "    return rows, cols\n",
    "\n",
    "def create_histograms(avg_catch,hist_data,group_labels, colors):\n",
    "\n",
    "    \"\"\"\n",
    "    INPUTS:\n",
    "        \n",
    "    \n",
    "    OUTPUTS:\n",
    "        \n",
    "    \"\"\"\n",
    "    \n",
    "    # init\n",
    "    data = []\n",
    "    layout = []\n",
    "    scl = colors     \n",
    "    \n",
    "    # add noise cluster\n",
    "    noise = go.Histogram(\n",
    "    x = hist_data[0],   \n",
    "    marker=dict(\n",
    "    color=scl[0], \n",
    "    ),\n",
    "    opacity = 0.75,\n",
    "    name = 'noise',\n",
    "    text = avg_catch[0],\n",
    "    )\n",
    "    \n",
    "    # add noise to data\n",
    "    data.append(noise)\n",
    "    \n",
    "    # add all valid clusters\n",
    "    for i in range(1,len(hist_data)):\n",
    "        cluster = go.Histogram(\n",
    "            x = hist_data[i],        \n",
    "            marker=dict(\n",
    "            color=scl[i],\n",
    "            ),\n",
    "            opacity = 0.75,\n",
    "            name = group_labels[i],\n",
    "            text = avg_catch[i]\n",
    "        )\n",
    "        data.append(cluster)\n",
    "    \n",
    "    # how many rows and cols do we need?\n",
    "    rows, cols = subplot_rows_and_cols(len(hist_data))\n",
    "    \n",
    "    # add clusters to figure\n",
    "    fig = tools.make_subplots(rows=rows, cols=cols)\n",
    "    \n",
    "    # subplot positions\n",
    "    # max 16 subplots\n",
    "    row = [1, 1, 2, 2, 1, 2, 3, 3, 3, 1, 2, 3, 4, 4, 4, 4]\n",
    "    col = [1, 2, 1, 2, 3, 3, 3, 2, 1, 4, 4, 4, 4, 3, 2, 1]\n",
    "    \n",
    "    for i in range(0, len(hist_data)):\n",
    "        fig.append_trace(data[i], row[i], col[i])\n",
    "        \n",
    "\n",
    "    fig['layout'].update(height=600, width=600, title='Catch instance histograms' +\n",
    "                                                      ' for each cluster')\n",
    "    \n",
    "    \n",
    "    \n",
    "    return fig"
   ]
  },
  {
   "cell_type": "markdown",
   "metadata": {},
   "source": [
    "# Main"
   ]
  },
  {
   "cell_type": "code",
   "execution_count": null,
   "metadata": {},
   "outputs": [],
   "source": [
    "%%time\n",
    "if __name__ == '__main__':\n",
    "    # Get data\n",
    "    df = load_BQ_and_clean()\n",
    "    \n",
    "    # remove bad catch\n",
    "    df = filter_catch(100)\n",
    "    \n",
    "    # create month\n",
    "    df['month'] = df['Date'].dt.month\n",
    "    \n",
    "    # re-index\n",
    "    df.index = pd.RangeIndex(len(df.index))\n",
    "    \n",
    "    \n",
    "    spatial_threshold = 10 # km\n",
    "    temporal_threshold = 1 # months\n",
    "    min_neighbors = 17\n",
    "    df_clustered = STDBSCAN.ST_DBSCAN(df, spatial_threshold, temporal_threshold, min_neighbors)\n",
    "    scl, colors = get_consistent_color_scaling(df_clustered)"
   ]
  },
  {
   "cell_type": "markdown",
   "metadata": {},
   "source": [
    "# Matplotlib"
   ]
  },
  {
   "cell_type": "code",
   "execution_count": null,
   "metadata": {},
   "outputs": [],
   "source": [
    "%matplotlib inline\n",
    "plt.figure(figsize = (20,10))\n",
    "ax = plot_clusters(df_clustered, 'test')"
   ]
  },
  {
   "cell_type": "markdown",
   "metadata": {},
   "source": [
    "# Plotly"
   ]
  },
  {
   "cell_type": "code",
   "execution_count": null,
   "metadata": {},
   "outputs": [],
   "source": [
    "fig = visualize_data(df_clustered,'clustered_plot', scl)\n",
    "py.iplot(fig, filename='catch-sites')"
   ]
  },
  {
   "cell_type": "code",
   "execution_count": null,
   "metadata": {},
   "outputs": [],
   "source": [
    "avg_cluster_catch_as_str,avg_cluster_catch_as_int, hist_data, group_labels = cluster_hist(df_clustered)\n",
    "avg_cluster_catch_as_int\n",
    "fig = create_histograms(avg_cluster_catch_as_str,hist_data, group_labels, colors)\n",
    "#fig.write_image(\"histogram_catch.png\")\n",
    "py.iplot(fig, filename='make-subplots-multiple-with-titles')"
   ]
  },
  {
   "cell_type": "markdown",
   "metadata": {},
   "source": [
    "# Seaborn"
   ]
  },
  {
   "cell_type": "code",
   "execution_count": null,
   "metadata": {},
   "outputs": [],
   "source": [
    "import seaborn as sns"
   ]
  },
  {
   "cell_type": "code",
   "execution_count": null,
   "metadata": {},
   "outputs": [],
   "source": [
    "heat = df_clustered.pivot_table(index='month',columns='cluster', values='Total catch Krill - Mt')"
   ]
  },
  {
   "cell_type": "code",
   "execution_count": null,
   "metadata": {},
   "outputs": [],
   "source": [
    "plt.figure(figsize = (20,10))\n",
    "sns.set(font_scale=2.4)\n",
    "ax = sns.heatmap(heat,cmap='coolwarm', linecolor='white',linewidths=1)\n",
    "#plt.savefig('heatmap.png', format='png')"
   ]
  },
  {
   "cell_type": "markdown",
   "metadata": {},
   "source": [
    "# Export to CSV "
   ]
  },
  {
   "cell_type": "code",
   "execution_count": null,
   "metadata": {},
   "outputs": [],
   "source": [
    "#export_csv = df_clustered.to_csv (r'C:\\Users\\ua388\\Documents\\export_dataframe.csv', index = None, header=True) #Don't forget to add '.csv' at the end of the path"
   ]
  }
 ],
 "metadata": {
  "kernelspec": {
   "display_name": "Python 3",
   "language": "python",
   "name": "python3"
  },
  "language_info": {
   "codemirror_mode": {
    "name": "ipython",
    "version": 3
   },
   "file_extension": ".py",
   "mimetype": "text/x-python",
   "name": "python",
   "nbconvert_exporter": "python",
   "pygments_lexer": "ipython3",
   "version": "3.7.3"
  }
 },
 "nbformat": 4,
 "nbformat_minor": 2
}
